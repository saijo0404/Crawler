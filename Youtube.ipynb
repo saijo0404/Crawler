{
 "cells": [
  {
   "cell_type": "markdown",
   "id": "6563b6ce",
   "metadata": {},
   "source": [
    "# YT\n",
    "自動下載該頻道所有播放清單的影片，並依播放清單名稱儲存 \n",
    "output_path = 儲存路徑 \n",
    "channel_name = 頻道名稱"
   ]
  },
  {
   "cell_type": "code",
   "execution_count": null,
   "id": "baea5a5a",
   "metadata": {},
   "outputs": [],
   "source": [
    "import requests\n",
    "from bs4 import BeautifulSoup\n",
    "import json\n",
    "import subprocess\n",
    "\n",
    "output_path = \"save_path\"\n",
    "channel_name = \"channel_name\"\n",
    "\n",
    "url = 'https://www.youtube.com/'+channel_name+'/playlists'\n",
    "response = requests.get(url)\n",
    "soup = BeautifulSoup(response.text, \"html.parser\")\n",
    "scripts = soup.find_all(\"script\")\n",
    "target = \"\"\n",
    "for script in scripts:\n",
    "    # 檢查是否包含ytInitialData\n",
    "    if script.string==None:\n",
    "        continue\n",
    "    if script.string.find(\"ytInitialData\")!=-1:\n",
    "        # 使用正規表達式或其他方法獲得ytInitialData的值\n",
    "        data_start = script.string.find('ytInitialData') + len('ytInitialData = ')\n",
    "        data_end = script.string.find(';', data_start)\n",
    "        yt_initial_data_str = script.string[data_start:data_end].strip()\n",
    "        target = json.loads(yt_initial_data_str)\n",
    "        break\n",
    "target = target['contents']['twoColumnBrowseResultsRenderer']['tabs'][5]['tabRenderer']['content']['sectionListRenderer']['contents'][0]['itemSectionRenderer']['contents'][0]['gridRenderer']['items']\n",
    "playlist = {}\n",
    "for i in target:\n",
    "    title = i['gridPlaylistRenderer']['title']['runs'][0]['text']\n",
    "    url = \"https://www.youtube.com/playlist?list=\"+i['gridPlaylistRenderer']['playlistId']\n",
    "    playlist[title] = url\n",
    "\n",
    "command = 'yt-dlp -i -f bestvideo+bestaudio -o ' \n",
    "for i in playlist:\n",
    "    complete_command = command + output_path + i +\"\\\\%(title)s.%(ext)s \" + '\"' + playlist.get(i) + '\"'\n",
    "    print(\"正在下載: \"+i)\n",
    "    print(complete_command)\n",
    "    try:\n",
    "        subprocess.run(complete_command, shell=True, check=True)\n",
    "    except subprocess.CalledProcessError as e:\n",
    "        print(f\"命令執行失敗: {e}\")"
   ]
  }
 ],
 "metadata": {
  "kernelspec": {
   "display_name": "Python 3",
   "language": "python",
   "name": "python3"
  },
  "language_info": {
   "codemirror_mode": {
    "name": "ipython",
    "version": 3
   },
   "file_extension": ".py",
   "mimetype": "text/x-python",
   "name": "python",
   "nbconvert_exporter": "python",
   "pygments_lexer": "ipython3",
   "version": "3.8.8"
  }
 },
 "nbformat": 4,
 "nbformat_minor": 5
}
