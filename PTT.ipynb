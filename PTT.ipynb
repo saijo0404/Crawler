{
 "cells": [
  {
   "cell_type": "code",
   "execution_count": 25,
   "id": "2f0d1b03",
   "metadata": {},
   "outputs": [
    {
     "name": "stdout",
     "output_type": "stream",
     "text": [
      "search end, total post: 101\n",
      "[正妹] IVE 張員瑛_M.1701758080.A.0D6\n"
     ]
    },
    {
     "name": "stderr",
     "output_type": "stream",
     "text": [
      "download: 20item [00:00, 5040.62item/s]\n"
     ]
    },
    {
     "name": "stdout",
     "output_type": "stream",
     "text": [
      "[正妹] IVE Liz_M.1700545680.A.EC7\n"
     ]
    },
    {
     "name": "stderr",
     "output_type": "stream",
     "text": [
      "download: 10item [00:00, 4996.79item/s]\n"
     ]
    },
    {
     "name": "stdout",
     "output_type": "stream",
     "text": [
      "[正妹] IVE Liz_M.1699361711.A.6D3\n"
     ]
    },
    {
     "name": "stderr",
     "output_type": "stream",
     "text": [
      "download: 9item [00:00, 8968.58item/s]\n"
     ]
    },
    {
     "name": "stdout",
     "output_type": "stream",
     "text": [
      "[正妹] IVE 安兪真_M.1696776363.A.887\n"
     ]
    },
    {
     "name": "stderr",
     "output_type": "stream",
     "text": [
      "download: 22item [00:00, 7330.95item/s]\n"
     ]
    },
    {
     "name": "stdout",
     "output_type": "stream",
     "text": [
      "[正妹] IVE 齊瀏海髮型的 張員瑛_M.1696226021.A.354\n"
     ]
    },
    {
     "name": "stderr",
     "output_type": "stream",
     "text": [
      "download: 4item [00:00, 1334.70item/s]\n"
     ]
    },
    {
     "name": "stdout",
     "output_type": "stream",
     "text": [
      "[正妹] IVE 李瑞_M.1695047323.A.5C1\n"
     ]
    },
    {
     "name": "stderr",
     "output_type": "stream",
     "text": [
      "download: 12item [00:00, 3999.02item/s]\n"
     ]
    },
    {
     "name": "stdout",
     "output_type": "stream",
     "text": [
      "[正妹] IVE Rei 直井怜_M.1694360152.A.94A\n"
     ]
    },
    {
     "name": "stderr",
     "output_type": "stream",
     "text": [
      "download: 7item [00:00, 3496.92item/s]\n"
     ]
    },
    {
     "name": "stdout",
     "output_type": "stream",
     "text": [
      "[正妹] IVE 張員瑛_M.1694358181.A.B3F\n"
     ]
    },
    {
     "name": "stderr",
     "output_type": "stream",
     "text": [
      "download: 20item [00:00, 19934.90item/s]\n"
     ]
    },
    {
     "name": "stdout",
     "output_type": "stream",
     "text": [
      "[公告] 水桶 nbaliveX_M.1693446126.A.82D\n"
     ]
    },
    {
     "name": "stderr",
     "output_type": "stream",
     "text": [
      "download: 0item [00:00, ?item/s]\n"
     ]
    },
    {
     "name": "stdout",
     "output_type": "stream",
     "text": [
      "[正妹] IVE 秋天_M.1693138256.A.931\n"
     ]
    },
    {
     "name": "stderr",
     "output_type": "stream",
     "text": [
      "download: 15item [00:00, 15022.58item/s]\n"
     ]
    },
    {
     "name": "stdout",
     "output_type": "stream",
     "text": [
      "[正妹] IVE 安兪真_M.1692530612.A.D6E\n"
     ]
    },
    {
     "name": "stderr",
     "output_type": "stream",
     "text": [
      "download: 24item [00:00, 7996.13item/s]\n"
     ]
    },
    {
     "name": "stdout",
     "output_type": "stream",
     "text": [
      "[正妹] IVE Rei_M.1692026684.A.9C5\n"
     ]
    },
    {
     "name": "stderr",
     "output_type": "stream",
     "text": [
      "download: 11item [00:00, 5499.09item/s]\n"
     ]
    },
    {
     "name": "stdout",
     "output_type": "stream",
     "text": [
      "[正妹] 宋小亞Ive Cellist 大提琴老師_M.1686843751.A.646\n"
     ]
    },
    {
     "name": "stderr",
     "output_type": "stream",
     "text": [
      "download: 7item [00:00, 3508.20item/s]\n"
     ]
    },
    {
     "name": "stdout",
     "output_type": "stream",
     "text": [
      "[正妹] IVE Rei_M.1685110128.A.C22\n"
     ]
    },
    {
     "name": "stderr",
     "output_type": "stream",
     "text": [
      "download: 8item [00:00, 8413.85item/s]\n"
     ]
    },
    {
     "name": "stdout",
     "output_type": "stream",
     "text": [
      "[正妹] IVE 張員瑛_M.1684917645.A.584\n"
     ]
    },
    {
     "name": "stderr",
     "output_type": "stream",
     "text": [
      "download: 19item [00:00, 9498.42item/s]\n"
     ]
    },
    {
     "name": "stdout",
     "output_type": "stream",
     "text": [
      "[正妹] IVE 秋天_M.1684305051.A.EE4\n"
     ]
    },
    {
     "name": "stderr",
     "output_type": "stream",
     "text": [
      "download: 19item [00:00, 3826.74item/s]\n"
     ]
    },
    {
     "name": "stdout",
     "output_type": "stream",
     "text": [
      "[正妹] Cosplay 271 日本 LoveLive_M.1682256662.A.010\n"
     ]
    },
    {
     "name": "stderr",
     "output_type": "stream",
     "text": [
      "download: 0item [00:00, ?item/s]\n"
     ]
    },
    {
     "name": "stdout",
     "output_type": "stream",
     "text": [
      "[正妹] IVE安兪真_M.1682169051.A.E22\n"
     ]
    },
    {
     "name": "stderr",
     "output_type": "stream",
     "text": [
      "download: 4item [00:00, 3998.38item/s]\n"
     ]
    },
    {
     "name": "stdout",
     "output_type": "stream",
     "text": [
      "[正妹] IVE Liz _M.1681646172.A.32F\n"
     ]
    },
    {
     "name": "stderr",
     "output_type": "stream",
     "text": [
      "download: 12item [00:00, 11986.58item/s]\n"
     ]
    },
    {
     "name": "stdout",
     "output_type": "stream",
     "text": [
      "[正妹] IVE 李瑞 Leeseo_M.1681641484.A.ABD\n"
     ]
    },
    {
     "name": "stderr",
     "output_type": "stream",
     "text": [
      "download: 9item [00:00, 8989.93item/s]\n"
     ]
    },
    {
     "name": "stdout",
     "output_type": "stream",
     "text": [
      "[正妹] IVE 直井怜_M.1681237313.A.088\n"
     ]
    },
    {
     "name": "stderr",
     "output_type": "stream",
     "text": [
      "download: 4item [00:00, 4001.24item/s]\n"
     ]
    },
    {
     "name": "stdout",
     "output_type": "stream",
     "text": [
      "[正妹] IVE 秋天_M.1681236857.A.7E2\n"
     ]
    },
    {
     "name": "stderr",
     "output_type": "stream",
     "text": [
      "download: 18item [00:00, 8997.43item/s]\n"
     ]
    },
    {
     "name": "stdout",
     "output_type": "stream",
     "text": [
      "[正妹] IVE 安兪真_M.1681234999.A.349\n"
     ]
    },
    {
     "name": "stderr",
     "output_type": "stream",
     "text": [
      "download: 20item [00:00, 10000.72item/s]\n"
     ]
    },
    {
     "name": "stdout",
     "output_type": "stream",
     "text": [
      "[正妹] IVE 張員瑛_M.1680539282.A.F36\n"
     ]
    },
    {
     "name": "stderr",
     "output_type": "stream",
     "text": [
      "download: 21item [00:00, 6997.17item/s]\n"
     ]
    },
    {
     "name": "stdout",
     "output_type": "stream",
     "text": [
      "[帥哥] River Phoenix_M.1678722822.A.55C\n"
     ]
    },
    {
     "name": "stderr",
     "output_type": "stream",
     "text": [
      "download: 10item [00:00, 10003.11item/s]\n"
     ]
    },
    {
     "name": "stdout",
     "output_type": "stream",
     "text": [
      "[正妹] IVE 直井伶 REI_M.1678204226.A.D6F\n"
     ]
    },
    {
     "name": "stderr",
     "output_type": "stream",
     "text": [
      "download: 5item [00:00, 4951.95item/s]\n"
     ]
    },
    {
     "name": "stdout",
     "output_type": "stream",
     "text": [
      "[正妹] IVE Rei 直井怜_M.1675357943.A.A6A\n"
     ]
    },
    {
     "name": "stderr",
     "output_type": "stream",
     "text": [
      "download: 24item [00:00, 4766.03item/s]\n"
     ]
    },
    {
     "name": "stdout",
     "output_type": "stream",
     "text": [
      "[正妹] IVE 秋天_M.1674995001.A.757\n"
     ]
    },
    {
     "name": "stderr",
     "output_type": "stream",
     "text": [
      "download: 12item [00:00, 5897.09item/s]\n"
     ]
    },
    {
     "name": "stdout",
     "output_type": "stream",
     "text": [
      "[正妹] Cosplay 064 日本 Hololive_M.1673799106.A.72D\n"
     ]
    },
    {
     "name": "stderr",
     "output_type": "stream",
     "text": [
      "download: 1item [00:00, 1034.86item/s]\n"
     ]
    },
    {
     "name": "stdout",
     "output_type": "stream",
     "text": [
      "[正妹] IVE 安兪真_M.1671454375.A.DEF\n"
     ]
    },
    {
     "name": "stderr",
     "output_type": "stream",
     "text": [
      "download: 15item [00:00, 7395.62item/s]\n"
     ]
    },
    {
     "name": "stdout",
     "output_type": "stream",
     "text": [
      "[正妹] IVE 安俞真_M.1670321120.A.52B\n"
     ]
    },
    {
     "name": "stderr",
     "output_type": "stream",
     "text": [
      "download: 15item [00:00, 7609.40item/s]\n"
     ]
    },
    {
     "name": "stdout",
     "output_type": "stream",
     "text": [
      "[帥哥] 本日最帥 大明 Tommy Oliver_M.1669037001.A.1EC\n"
     ]
    },
    {
     "name": "stderr",
     "output_type": "stream",
     "text": [
      "download: 6item [00:00, 3000.93item/s]\n"
     ]
    },
    {
     "name": "stdout",
     "output_type": "stream",
     "text": [
      "[正妹] IVE Rei 直井怜_M.1663498558.A.8AC\n"
     ]
    },
    {
     "name": "stderr",
     "output_type": "stream",
     "text": [
      "download: 14item [00:00, 4717.24item/s]\n"
     ]
    },
    {
     "name": "stdout",
     "output_type": "stream",
     "text": [
      "[正妹] University of Florida_M.1661344077.A.96E\n"
     ]
    },
    {
     "name": "stderr",
     "output_type": "stream",
     "text": [
      "download: 5item [00:00, 4997.98item/s]\n"
     ]
    },
    {
     "name": "stdout",
     "output_type": "stream",
     "text": [
      "[正妹] IVE rei_M.1660183697.A.C86\n"
     ]
    },
    {
     "name": "stderr",
     "output_type": "stream",
     "text": [
      "download: 15item [00:00, 5076.21item/s]\n"
     ]
    },
    {
     "name": "stdout",
     "output_type": "stream",
     "text": [
      "[正妹] IVE 安兪真_M.1660059930.A.026\n"
     ]
    },
    {
     "name": "stderr",
     "output_type": "stream",
     "text": [
      "download: 13item [00:00, 13013.35item/s]\n"
     ]
    },
    {
     "name": "stdout",
     "output_type": "stream",
     "text": [
      "[正妹] IVE 張員瑛_M.1659541066.A.63D\n"
     ]
    },
    {
     "name": "stderr",
     "output_type": "stream",
     "text": [
      "download: 16item [00:00, 7867.39item/s]\n"
     ]
    },
    {
     "name": "stdout",
     "output_type": "stream",
     "text": [
      "[帥哥] ALLEN IVERSON_M.1654614745.A.07E\n"
     ]
    },
    {
     "name": "stderr",
     "output_type": "stream",
     "text": [
      "download: 6item [00:00, 6238.43item/s]\n"
     ]
    },
    {
     "name": "stdout",
     "output_type": "stream",
     "text": [
      "[正妹] IVE 安兪真_M.1652763730.A.FA8\n"
     ]
    },
    {
     "name": "stderr",
     "output_type": "stream",
     "text": [
      "download: 15item [00:00, 14604.12item/s]\n"
     ]
    },
    {
     "name": "stdout",
     "output_type": "stream",
     "text": [
      "[正妹] IVE 秋天_M.1650807795.A.40F\n"
     ]
    },
    {
     "name": "stderr",
     "output_type": "stream",
     "text": [
      "download: 14item [00:00, 4719.90item/s]\n"
     ]
    },
    {
     "name": "stdout",
     "output_type": "stream",
     "text": [
      "[神人] YY live 張哪吒_M.1646833498.A.1DC\n"
     ]
    },
    {
     "name": "stderr",
     "output_type": "stream",
     "text": [
      "download: 2item [00:00, 1993.49item/s]\n"
     ]
    },
    {
     "name": "stdout",
     "output_type": "stream",
     "text": [
      "[正妹] IVE 安兪真_M.1642871757.A.66A\n"
     ]
    },
    {
     "name": "stderr",
     "output_type": "stream",
     "text": [
      "download: 17item [00:00, 8288.17item/s]\n"
     ]
    },
    {
     "name": "stdout",
     "output_type": "stream",
     "text": [
      "[正妹] Ive Rei 直井怜_M.1642711709.A.671\n"
     ]
    },
    {
     "name": "stderr",
     "output_type": "stream",
     "text": [
      "download: 16item [00:00, 7996.77item/s]\n"
     ]
    },
    {
     "name": "stdout",
     "output_type": "stream",
     "text": [
      "[正妹] River Wheaton 美國模特兒 175cm_M.1639569237.A.BE6\n"
     ]
    },
    {
     "name": "stderr",
     "output_type": "stream",
     "text": [
      "download: 13item [00:00, 6539.45item/s]\n"
     ]
    },
    {
     "name": "stdout",
     "output_type": "stream",
     "text": [
      "[正妹] 前天晚上vlive直播的舒華_M.1632039194.A.9B4\n"
     ]
    },
    {
     "name": "stderr",
     "output_type": "stream",
     "text": [
      "download: 5item [00:00, 4880.50item/s]\n"
     ]
    },
    {
     "name": "stdout",
     "output_type": "stream",
     "text": [
      "[帥哥] yagoo hololive best girl 谷郷元昭_M.1630698871.A.0F8\n"
     ]
    },
    {
     "name": "stderr",
     "output_type": "stream",
     "text": [
      "download: 29item [00:00, 7245.77item/s]\n"
     ]
    },
    {
     "name": "stdout",
     "output_type": "stream",
     "text": [
      "[正妹] Watson Amelia 阿梅(HololiveEN)_M.1623470742.A.E22\n"
     ]
    },
    {
     "name": "stderr",
     "output_type": "stream",
     "text": [
      "download: 8item [00:00, 8000.58item/s]\n"
     ]
    },
    {
     "name": "stdout",
     "output_type": "stream",
     "text": [
      "[神人] Uplive直播廣告女主？_M.1613387662.A.853\n"
     ]
    },
    {
     "name": "stderr",
     "output_type": "stream",
     "text": [
      "download: 2item [00:00, 2001.10item/s]\n"
     ]
    },
    {
     "name": "stdout",
     "output_type": "stream",
     "text": [
      "[正妹] Oliveira_M.1607521174.A.0C8\n"
     ]
    },
    {
     "name": "stderr",
     "output_type": "stream",
     "text": [
      "download: 12item [00:00, 11853.90item/s]\n"
     ]
    },
    {
     "name": "stdout",
     "output_type": "stream",
     "text": [
      "[神人] 500p uplive up直播fb廣告_M.1604848998.A.DB8\n"
     ]
    },
    {
     "name": "stderr",
     "output_type": "stream",
     "text": [
      "download: 1item [00:00, 1066.17item/s]\n"
     ]
    },
    {
     "name": "stdout",
     "output_type": "stream",
     "text": [
      "[神人] fb uplive廣告主角_M.1600443804.A.4BD\n"
     ]
    },
    {
     "name": "stderr",
     "output_type": "stream",
     "text": [
      "download: 1item [00:00, 986.90item/s]\n"
     ]
    },
    {
     "name": "stdout",
     "output_type": "stream",
     "text": [
      "[神人] Pitt 17 Live的廣告model_M.1598673477.A.818\n"
     ]
    },
    {
     "name": "stderr",
     "output_type": "stream",
     "text": [
      "download: 2item [00:00, 2001.10item/s]\n"
     ]
    },
    {
     "name": "stdout",
     "output_type": "stream",
     "text": [
      "[神人] Olive Club 六月封面_M.1590680533.A.80D\n"
     ]
    },
    {
     "name": "stderr",
     "output_type": "stream",
     "text": [
      "download: 1item [00:00, 999.60item/s]\n"
     ]
    },
    {
     "name": "stdout",
     "output_type": "stream",
     "text": [
      "[正妹] Yuki D_Drive_M.1577637779.A.A4A\n"
     ]
    },
    {
     "name": "stderr",
     "output_type": "stream",
     "text": [
      "download: 8item [00:00, 8270.75item/s]\n"
     ]
    },
    {
     "name": "stdout",
     "output_type": "stream",
     "text": [
      "[正妹] FES☆TIVE 土光瑠璃子_M.1575661448.A.CD8\n"
     ]
    },
    {
     "name": "stderr",
     "output_type": "stream",
     "text": [
      "download: 6item [00:00, 2018.11item/s]\n"
     ]
    },
    {
     "name": "stdout",
     "output_type": "stream",
     "text": [
      "[新聞] wecanLive遊戲動漫嘉年華順利落幕 張家兄_M.1555743324.A.8F4\n"
     ]
    },
    {
     "name": "stderr",
     "output_type": "stream",
     "text": [
      "download: 0item [00:00, ?item/s]\n"
     ]
    },
    {
     "name": "stdout",
     "output_type": "stream",
     "text": [
      "[正妹] 上班不要看 GG+草草 live中_M.1545363473.A.84F\n"
     ]
    },
    {
     "name": "stderr",
     "output_type": "stream",
     "text": [
      "download: 4item [00:00, 4001.24item/s]\n"
     ]
    },
    {
     "name": "stdout",
     "output_type": "stream",
     "text": [
      "[神人] 高雄三民區掃街LIVE的正妹_M.1542896448.A.D03\n"
     ]
    },
    {
     "name": "stderr",
     "output_type": "stream",
     "text": [
      "download: 2item [00:00, 1989.24item/s]\n"
     ]
    },
    {
     "name": "stdout",
     "output_type": "stream",
     "text": [
      "[神人] uplive正妹_M.1536297763.A.DFC\n"
     ]
    },
    {
     "name": "stderr",
     "output_type": "stream",
     "text": [
      "download: 2item [00:00, 2069.73item/s]\n"
     ]
    },
    {
     "name": "stdout",
     "output_type": "stream",
     "text": [
      "[正妹] 韓劇Live韓靜伍截圖(鄭有美飾演) 有劇情_M.1527257233.A.536\n"
     ]
    },
    {
     "name": "stderr",
     "output_type": "stream",
     "text": [
      "download: 0item [00:00, ?item/s]\n"
     ]
    },
    {
     "name": "stdout",
     "output_type": "stream",
     "text": [
      "[神人] James Oliver 正妹_M.1508639220.A.392\n"
     ]
    },
    {
     "name": "stderr",
     "output_type": "stream",
     "text": [
      "download: 0item [00:00, ?item/s]\n"
     ]
    },
    {
     "name": "stdout",
     "output_type": "stream",
     "text": [
      "[公告] camrydriver Astar5566 水桶_M.1501159671.A.374\n"
     ]
    },
    {
     "name": "stderr",
     "output_type": "stream",
     "text": [
      "download: 0item [00:00, ?item/s]\n"
     ]
    },
    {
     "name": "stdout",
     "output_type": "stream",
     "text": [
      "[神人] 神在UPLIVE開過台的貓貓萱_M.1493660558.A.7D2\n"
     ]
    },
    {
     "name": "stderr",
     "output_type": "stream",
     "text": [
      "download: 0item [00:00, ?item/s]\n"
     ]
    },
    {
     "name": "stdout",
     "output_type": "stream",
     "text": [
      "[正妹] 環球小姐 live_M.1485431074.A.B8E\n"
     ]
    },
    {
     "name": "stderr",
     "output_type": "stream",
     "text": [
      "download: 0item [00:00, ?item/s]\n"
     ]
    },
    {
     "name": "stdout",
     "output_type": "stream",
     "text": [
      "[神人] live me主播_M.1479121125.A.9D5\n"
     ]
    },
    {
     "name": "stderr",
     "output_type": "stream",
     "text": [
      "download: 0item [00:00, ?item/s]\n"
     ]
    },
    {
     "name": "stdout",
     "output_type": "stream",
     "text": [
      "[正妹] 芷儀 & Melody 健身 LIVE 中_M.1473311760.A.A1E\n"
     ]
    },
    {
     "name": "stderr",
     "output_type": "stream",
     "text": [
      "download: 0item [00:00, ?item/s]\n"
     ]
    },
    {
     "name": "stdout",
     "output_type": "stream",
     "text": [
      "[正妹] YY LIVE 典典_M.1469799277.A.743\n"
     ]
    },
    {
     "name": "stderr",
     "output_type": "stream",
     "text": [
      "download: 0item [00:00, ?item/s]\n"
     ]
    },
    {
     "name": "stdout",
     "output_type": "stream",
     "text": [
      "[公告] lee841113 antivenom cow7585519 水桶_M.1462462918.A.D7C\n"
     ]
    },
    {
     "name": "stderr",
     "output_type": "stream",
     "text": [
      "download: 0item [00:00, ?item/s]\n"
     ]
    },
    {
     "name": "stdout",
     "output_type": "stream",
     "text": [
      "[正妹] 甜美笑容 FB女孩Round Ninety five_M.1459784759.A.B51\n"
     ]
    },
    {
     "name": "stderr",
     "output_type": "stream",
     "text": [
      "download: 0item [00:00, ?item/s]\n"
     ]
    },
    {
     "name": "stdout",
     "output_type": "stream",
     "text": [
      "[正妹] 物理治療師 FB女孩Round Eighty five_M.1457796799.A.BCE\n"
     ]
    },
    {
     "name": "stderr",
     "output_type": "stream",
     "text": [
      "download: 0item [00:00, ?item/s]\n"
     ]
    },
    {
     "name": "stdout",
     "output_type": "stream",
     "text": [
      "[正妹] 愛狗 FB女孩Round Seventy five_M.1455107768.A.81B\n"
     ]
    },
    {
     "name": "stderr",
     "output_type": "stream",
     "text": [
      "download: 0item [00:00, ?item/s]\n"
     ]
    },
    {
     "name": "stdout",
     "output_type": "stream",
     "text": [
      "[正妹] 冰淇淋店店花 FB女孩Round Sixty Five_M.1451232599.A.EC5\n"
     ]
    },
    {
     "name": "stderr",
     "output_type": "stream",
     "text": [
      "download: 0item [00:00, ?item/s]\n"
     ]
    },
    {
     "name": "stdout",
     "output_type": "stream",
     "text": [
      "[正妹] FB朋友串連的女孩Round Fifty five _M.1447604093.A.459\n"
     ]
    },
    {
     "name": "stderr",
     "output_type": "stream",
     "text": [
      "download: 0item [00:00, ?item/s]\n"
     ]
    },
    {
     "name": "stdout",
     "output_type": "stream",
     "text": [
      "[正妹] FB朋友串連的女孩Round  Forty five_M.1444579167.A.4BC\n"
     ]
    },
    {
     "name": "stderr",
     "output_type": "stream",
     "text": [
      "download: 0item [00:00, ?item/s]\n"
     ]
    },
    {
     "name": "stdout",
     "output_type": "stream",
     "text": [
      "[正妹] FB朋友串連的女孩Round Thirty five _M.1440864004.A.AE3\n"
     ]
    },
    {
     "name": "stderr",
     "output_type": "stream",
     "text": [
      "download: 0item [00:00, ?item/s]\n"
     ]
    },
    {
     "name": "stdout",
     "output_type": "stream",
     "text": [
      "[神人] LIVE互動英語的老師_M.1437368452.A.269\n"
     ]
    },
    {
     "name": "stderr",
     "output_type": "stream",
     "text": [
      "download: 0item [00:00, ?item/s]\n"
     ]
    },
    {
     "name": "stdout",
     "output_type": "stream",
     "text": [
      "[正妹] FB朋友串連的女孩Round Twenty five_M.1437323286.A.4C7\n"
     ]
    },
    {
     "name": "stderr",
     "output_type": "stream",
     "text": [
      "download: 0item [00:00, ?item/s]\n"
     ]
    },
    {
     "name": "stdout",
     "output_type": "stream",
     "text": [
      "[情報] 久違的正妹 Sayumi@知識王 Live_M.1436097937.A.137\n"
     ]
    },
    {
     "name": "stderr",
     "output_type": "stream",
     "text": [
      "download: 0item [00:00, ?item/s]\n"
     ]
    },
    {
     "name": "stdout",
     "output_type": "stream",
     "text": [
      "[神人] live ABC的封面圖_M.1435216286.A.6C4\n"
     ]
    },
    {
     "name": "stderr",
     "output_type": "stream",
     "text": [
      "download: 0item [00:00, ?item/s]\n"
     ]
    },
    {
     "name": "stdout",
     "output_type": "stream",
     "text": [
      "[神人] olive club 六月號封面_M.1434519736.A.44A\n"
     ]
    },
    {
     "name": "stderr",
     "output_type": "stream",
     "text": [
      "download: 0item [00:00, ?item/s]\n"
     ]
    },
    {
     "name": "stdout",
     "output_type": "stream",
     "text": [
      "[正妹]  FB朋友串連的女孩 Round five_M.1430581407.A.3EC\n"
     ]
    },
    {
     "name": "stderr",
     "output_type": "stream",
     "text": [
      "download: 0item [00:00, ?item/s]\n"
     ]
    },
    {
     "name": "stdout",
     "output_type": "stream",
     "text": [
      "[帥哥] River Phoenix  瑞凡·費尼克斯_M.1416229124.A.CC8\n"
     ]
    },
    {
     "name": "stderr",
     "output_type": "stream",
     "text": [
      "download: 0item [00:00, ?item/s]\n"
     ]
    },
    {
     "name": "stdout",
     "output_type": "stream",
     "text": [
      "Re: [神人] 9/29 email pttlive訪問女主持人_M.1412002522.A.508\n"
     ]
    },
    {
     "name": "stderr",
     "output_type": "stream",
     "text": [
      "download: 0item [00:00, ?item/s]\n"
     ]
    },
    {
     "name": "stdout",
     "output_type": "stream",
     "text": [
      "[神人] 9/29 email pttlive訪問女主持人_M.1411999806.A.1C4\n"
     ]
    },
    {
     "name": "stderr",
     "output_type": "stream",
     "text": [
      "download: 0item [00:00, ?item/s]\n"
     ]
    },
    {
     "name": "stdout",
     "output_type": "stream",
     "text": [
      "[神人] 昨晚台北HIVE女DJ_M.1410182149.A.9D9\n"
     ]
    },
    {
     "name": "stderr",
     "output_type": "stream",
     "text": [
      "download: 0item [00:00, ?item/s]\n"
     ]
    },
    {
     "name": "stdout",
     "output_type": "stream",
     "text": [
      "Fw: [廣告]2014坎城 Blake Lively、長澤雅美性感比美_M.1400169072.A.5DD\n"
     ]
    },
    {
     "name": "stderr",
     "output_type": "stream",
     "text": [
      "download: 0item [00:00, ?item/s]\n"
     ]
    },
    {
     "name": "stdout",
     "output_type": "stream",
     "text": [
      "[新聞] 青島東路僅1名女學生　《蘋果》場外LIVE_M.1396313800.A.702\n"
     ]
    },
    {
     "name": "stderr",
     "output_type": "stream",
     "text": [
      "download: 0item [00:00, ?item/s]\n"
     ]
    },
    {
     "name": "stdout",
     "output_type": "stream",
     "text": [
      "[正妹] 2013中日經典棒球對抗賽球僮(LIVE中)_M.1383998936.A.FCB\n"
     ]
    },
    {
     "name": "stderr",
     "output_type": "stream",
     "text": [
      "download: 0item [00:00, ?item/s]\n"
     ]
    },
    {
     "name": "stdout",
     "output_type": "stream",
     "text": [
      "[公告] drive01 水桶_M.1378349832.A.04E\n"
     ]
    },
    {
     "name": "stderr",
     "output_type": "stream",
     "text": [
      "download: 0item [00:00, ?item/s]\n"
     ]
    },
    {
     "name": "stdout",
     "output_type": "stream",
     "text": [
      "[廣告]花邊教主Blake Lively露修長美腿 蠻腰曲線_M.1375706422.A.2C9\n"
     ]
    },
    {
     "name": "stderr",
     "output_type": "stream",
     "text": [
      "download: 0item [00:00, ?item/s]\n"
     ]
    },
    {
     "name": "stdout",
     "output_type": "stream",
     "text": [
      "[新聞] 帥男模Oliver Cheshire 下一位李奧納多？_M.1371814705.A.59D\n"
     ]
    },
    {
     "name": "stderr",
     "output_type": "stream",
     "text": [
      "download: 0item [00:00, ?item/s]\n"
     ]
    },
    {
     "name": "stdout",
     "output_type": "stream",
     "text": [
      "[新聞] Blake Lively老公管太寬?婚後包緊緊!??_M.1371207739.A.622\n"
     ]
    },
    {
     "name": "stderr",
     "output_type": "stream",
     "text": [
      "download: 0item [00:00, ?item/s]\n"
     ]
    },
    {
     "name": "stdout",
     "output_type": "stream",
     "text": [
      "[正妹] Olivia 台北漫步調LIVE巡演_M.1370827070.A.67F\n"
     ]
    },
    {
     "name": "stderr",
     "output_type": "stream",
     "text": [
      "download: 0item [00:00, ?item/s]\n"
     ]
    },
    {
     "name": "stdout",
     "output_type": "stream",
     "text": [
      "[正妹] Blake Lively(布蕾克萊弗莉) 性感花邊教主_M.1366024194.A.C53\n"
     ]
    },
    {
     "name": "stderr",
     "output_type": "stream",
     "text": [
      "download: 0item [00:00, ?item/s]\n"
     ]
    },
    {
     "name": "stdout",
     "output_type": "stream",
     "text": [
      "[正妹] Blake Lively_M.1363335927.A.DE5\n"
     ]
    },
    {
     "name": "stderr",
     "output_type": "stream",
     "text": [
      "download: 0item [00:00, ?item/s]\n"
     ]
    },
    {
     "name": "stdout",
     "output_type": "stream",
     "text": [
      "[正妹] 天氣女孩池袋噴水廣場LIVE演出_M.1359903521.A.618\n"
     ]
    },
    {
     "name": "stderr",
     "output_type": "stream",
     "text": [
      "download: 0item [00:00, ?item/s]\n"
     ]
    },
    {
     "name": "stdout",
     "output_type": "stream",
     "text": [
      "[正妹] LIVE視訊正妹_M.1359628744.A.925\n"
     ]
    },
    {
     "name": "stderr",
     "output_type": "stream",
     "text": [
      "download: 0item [00:00, ?item/s]\n"
     ]
    },
    {
     "name": "stdout",
     "output_type": "stream",
     "text": [
      "[正妹] 蝴蝶姐姐Live_M.1350649989.A.53D\n"
     ]
    },
    {
     "name": "stderr",
     "output_type": "stream",
     "text": [
      "download: 0item [00:00, ?item/s]\n"
     ]
    },
    {
     "name": "stdout",
     "output_type": "stream",
     "text": [
      "[新聞] Blake Lively詮釋Gucci香水的金緻性感!_M.1350385940.A.0BD\n"
     ]
    },
    {
     "name": "stderr",
     "output_type": "stream",
     "text": [
      "download: 0item [00:00, ?item/s]\n"
     ]
    },
    {
     "name": "stdout",
     "output_type": "stream",
     "text": [
      "[公告] liveyoyo 水桶_M.1281803278.A.BDD\n"
     ]
    },
    {
     "name": "stderr",
     "output_type": "stream",
     "text": [
      "download: 0item [00:00, ?item/s]\n"
     ]
    },
    {
     "name": "stdout",
     "output_type": "stream",
     "text": [
      "[公告] 關於 Live 文的說明_M.1264932495.A.0BB\n"
     ]
    },
    {
     "name": "stderr",
     "output_type": "stream",
     "text": [
      "download: 0item [00:00, ?item/s]\n"
     ]
    }
   ],
   "source": [
    "import requests\n",
    "from bs4 import BeautifulSoup\n",
    "import os\n",
    "import urllib.request\n",
    "from tqdm import tqdm\n",
    "\n",
    "path = './PTT/'\n",
    "\n",
    "def download(url, path, name):\n",
    "    if not os.path.exists(path):\n",
    "        os.makedirs(path)\n",
    "    name_format = \"01\"\n",
    "    # Convert back to a string and use zfill to pad with zeros\n",
    "    fullname = str(name).zfill(len(name_format))+\".\"+url.split('.')[-1]\n",
    "    if not os.path.exists(path+fullname):\n",
    "        urllib.request.urlretrieve(url,path+fullname)\n",
    "\n",
    "request = requests.Session()\n",
    "payload = { 'yes': 'yes' }\n",
    "url = 'https://www.ptt.cc/ask/over18'\n",
    "response = request.post(url, data=payload)\n",
    "\n",
    "page = 1\n",
    "links = {}\n",
    "curr_link = -1\n",
    "while True:\n",
    "    params = { 'page': page, 'q': 'IVE' }\n",
    "    url = 'https://www.ptt.cc/bbs/Beauty/search'\n",
    "    response = request.get(url, params=params)\n",
    "    soup = BeautifulSoup(response.text,\"html.parser\")\n",
    "    titles = soup.find_all(\"div\", class_=\"title\")\n",
    "    for title in titles:\n",
    "        href = title.find(\"a\").get('href')\n",
    "        start_index = href.find('M.')\n",
    "        end_index = href.find('.html', start_index)\n",
    "        if start_index != -1 and end_index != -1:\n",
    "            result = href[start_index:end_index]  # 加上 '.html'\n",
    "        links[title.find(\"a\").text+\"_\"+result] = 'https://www.ptt.cc'+href\n",
    "    if curr_link==len(links):\n",
    "        break\n",
    "    curr_link = len(links)\n",
    "    page += 1\n",
    "print('search end, total post:', len(links))\n",
    "\n",
    "for title, url in links.items():\n",
    "    print(title)\n",
    "    title = title.replace('/','').replace('?','').replace('\\\\','').replace(':','')\n",
    "    if not os.path.exists(path+title+'/'):\n",
    "        os.makedirs(path+title+'/')\n",
    "    response = request.get(url)\n",
    "    soup = BeautifulSoup(response.text,\"html.parser\")\n",
    "    images = soup.find_all('a', {'target': '_blank', 'href': lambda x: x and 'https://i.imgur.com' in x})\n",
    "    for count, image in tqdm(enumerate(images), desc=\"download\", unit=\"item\"):\n",
    "        download(image.get('href'), path+title+'/', count+1)\n"
   ]
  },
  {
   "cell_type": "code",
   "execution_count": null,
   "id": "29961c8a",
   "metadata": {},
   "outputs": [],
   "source": []
  }
 ],
 "metadata": {
  "kernelspec": {
   "display_name": "Python 3",
   "language": "python",
   "name": "python3"
  },
  "language_info": {
   "codemirror_mode": {
    "name": "ipython",
    "version": 3
   },
   "file_extension": ".py",
   "mimetype": "text/x-python",
   "name": "python",
   "nbconvert_exporter": "python",
   "pygments_lexer": "ipython3",
   "version": "3.8.8"
  }
 },
 "nbformat": 4,
 "nbformat_minor": 5
}
